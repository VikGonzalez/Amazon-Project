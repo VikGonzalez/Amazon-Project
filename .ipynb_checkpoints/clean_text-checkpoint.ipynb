{
 "cells": [
  {
   "cell_type": "code",
   "execution_count": null,
   "metadata": {},
   "outputs": [],
   "source": [
    "import pandas as pd\n",
    "import numpy as np\n",
    "from bs4 import BeautifulSoup as bs\n",
    "import re\n"
   ]
  },
  {
   "cell_type": "code",
   "execution_count": null,
   "metadata": {},
   "outputs": [],
   "source": [
    "# List of unpleasant words to check\n",
    "unpleasant = ['lousy','disappointed','discouraged','ashamed','powerless','diminished','guilty','dissatisfied',\n",
    "        'miserable','detestable','repugnant','despicable','disgusting','abominable','terrible','in despair',\n",
    "        'sulky','bad','upset','doubtful','uncertain','indecisive','perplexed','embarassed','hesitant',\n",
    "        'shy','stupefied','disillusioned','unbelieving','skeptical','distrustful','misgiving','lost',\n",
    "        'unsure','uneasy','pessimistic','tense''incapable','alone','paralyzed','fatigued','useless',\n",
    "        'inferior','vulnerable','empty','forced','hesitant','despair','frustrated','distressed','woeful',\n",
    "        'pathetic','tragic','in a stew','dominated','irritated','enraged','hostile','insulting',\n",
    "        'annoyed','upset','hateful','offensive','bitter','aggresive','resentful','inflamed','provoked',\n",
    "        'incensed','infuriated','cross','worked up','boiling','fuming','fearful','terrified','suspicious',\n",
    "        'anxious','alarmed','panic','nervous','scared','worried','frightened','timid','shaky','restless',\n",
    "        'doubtful','threatened','cowardly','quaking','wary','crushed','tormented','deprived','pained',\n",
    "        'tortured','dejected','rejected','injured','offended','afflicted','aching','victimized',\n",
    "        'heartbroken','agonized','appalled','humiliated','wronged','alienated','tearful','sorrowful',\n",
    "        'pained','grief','anguish','desolate','desperate','pessimistic','unhappy','lonely','grieved',\n",
    "        'mournful','dismayed','insensitive','dull','nonchalant','neutral','reserved','weary','bored',\n",
    "        'preoccupied','cold','disinterested','lifeless', 'never'];"
   ]
  },
  {
   "cell_type": "code",
   "execution_count": null,
   "metadata": {},
   "outputs": [],
   "source": [
    "# List of pleasant words to check\n",
    "pleasant = ['understanding','confident','reliable','easy','amazed','free','sympathetic','interested','satisfied',\n",
    "            'receptive','accepting','kind', 'great','joyous','lucky','fortunate','delighted','overjoyed','gleeful','thankful','important',\n",
    "            'festive','ecstatic','glad','cheerful','elated','jubilant', 'playful','courageous','energetic','liberated','optimistic',\n",
    "            'impulsive','free','animated','spirited','thrilled','wonderful','calm','peaceful','at ease','comfortable','pleased','encouraged',\n",
    "            'clever','surprised','content','quiet','certain','relaxed','serene','reassured', 'loving','considerate','affectionate', 'sensitive',\n",
    "            'tender','devoted','attracted','passionate','admiration','warm','touched','close','comforted','loved','concerned','affected','fascinated',\n",
    "            'intrigued','absorbed','inquisitive','engrossed','curious','drawn toward','eager','keen','earnest','intent','inspired','determined','excited',\n",
    "            'enthusiastic','bold','brave','daring',\n",
    "            'optimistic','impulsive','free','sure','certain','rebellious','unique','dynamic','tenacious','hardy','secure',\n",
    "            'confident','challenged', 'love'];"
   ]
  },
  {
   "cell_type": "code",
   "execution_count": null,
   "metadata": {
    "pycharm": {
     "name": "#%%\n"
    }
   },
   "outputs": [],
   "source": [
    "# Read csv\n",
    "path = 'Resources/Amazon_rev.csv'"
   ]
  },
  {
   "cell_type": "code",
   "execution_count": null,
   "metadata": {
    "pycharm": {
     "name": "#%%\n"
    }
   },
   "outputs": [],
   "source": [
    "amazon_foods_df = pd.read_csv(path)"
   ]
  },
  {
   "cell_type": "code",
   "execution_count": null,
   "metadata": {},
   "outputs": [],
   "source": [
    "amazon_foods_df.head()"
   ]
  },
  {
   "cell_type": "code",
   "execution_count": null,
   "metadata": {
    "scrolled": true
   },
   "outputs": [],
   "source": [
    "# Drop first column because it creates junk info\n",
    "amazon_foods_df = amazon_foods_df.drop(columns=[\"Unnamed: 0\"])"
   ]
  },
  {
   "cell_type": "code",
   "execution_count": null,
   "metadata": {},
   "outputs": [],
   "source": [
    "amazon_foods_modified_df = amazon_foods_df"
   ]
  },
  {
   "cell_type": "code",
   "execution_count": null,
   "metadata": {},
   "outputs": [],
   "source": [
    "# Add a regular expression to look for all the symbols\n",
    "regex = \"[.\\\"\\',!@#$%^&*()\\_\\-+=?:;|/!]\""
   ]
  },
  {
   "cell_type": "code",
   "execution_count": null,
   "metadata": {},
   "outputs": [],
   "source": [
    "# Tex replacement for all rules in the regex\n",
    "text_replace = ''"
   ]
  },
  {
   "cell_type": "code",
   "execution_count": null,
   "metadata": {},
   "outputs": [],
   "source": [
    "#Create first column with text in lower case and no special characters\n",
    "amazon_foods_modified_df['Lowercase Text'] = ''"
   ]
  },
  {
   "cell_type": "code",
   "execution_count": null,
   "metadata": {},
   "outputs": [],
   "source": [
    "# Split data frame to run demo version\n",
    "amazon_foods_modified_df = amazon_foods_df.iloc[:1000]"
   ]
  },
  {
   "cell_type": "code",
   "execution_count": null,
   "metadata": {
    "scrolled": true
   },
   "outputs": [],
   "source": [
    "%%time\n",
    "# Pupulate new column column \n",
    "amazon_foods_modified_df['Lowercase Text'] = amazon_foods_df.apply(\n",
    "    lambda row: (\n",
    "            re.sub(\n",
    "                regex,\n",
    "                text_replace,\n",
    "                row[9].lower()\n",
    "            )\n",
    "    ),\n",
    "    axis=1)"
   ]
  },
  {
   "cell_type": "code",
   "execution_count": null,
   "metadata": {},
   "outputs": [],
   "source": [
    "#Create second column and clear br html tags\n",
    "amazon_foods_modified_df['Lowercase Text Clean'] = ''"
   ]
  },
  {
   "cell_type": "code",
   "execution_count": null,
   "metadata": {},
   "outputs": [],
   "source": [
    "# Define function to extract with beautifull soup br and just return text property\n",
    "def extract_br_tags(soup):\n",
    "    for e in soup.findAll('br'):\n",
    "        e.extract()\n",
    "    if soup.find('p'):\n",
    "        return soup.find('p').text\n",
    "    elif soup.find('span'):\n",
    "        return soup.find('span').text\n",
    "    return soup"
   ]
  },
  {
   "cell_type": "code",
   "execution_count": null,
   "metadata": {},
   "outputs": [],
   "source": [
    "# Define function to count positive and negative words based on pleasant and unpleasant lists\n",
    "def add_positive_negative(text, is_positive):\n",
    "    text_list = text.split()\n",
    "#     print(text_list)\n",
    "    count = 0\n",
    "    for word in text_list:\n",
    "        if is_positive:\n",
    "            for pleasant_word in pleasant:\n",
    "                if word == pleasant_word:\n",
    "                    count+=1\n",
    "        else:\n",
    "            for unpleasant_word in unpleasant:\n",
    "                if word == unpleasant_word:\n",
    "                    count+=1\n",
    "    return count\n",
    "    \n"
   ]
  },
  {
   "cell_type": "code",
   "execution_count": null,
   "metadata": {},
   "outputs": [],
   "source": [
    "%%time\n",
    "amazon_foods_modified_df['Lowercase Text Clean'] = amazon_foods_modified_df.apply(\n",
    "    lambda row: (\n",
    "        extract_br_tags(bs(row[10],'lxml'))\n",
    "    ),\n",
    "    axis=1)"
   ]
  },
  {
   "cell_type": "code",
   "execution_count": null,
   "metadata": {},
   "outputs": [],
   "source": [
    "# Create column for positive count\n",
    "amazon_foods_modified_df['Positive Count'] = ''"
   ]
  },
  {
   "cell_type": "code",
   "execution_count": null,
   "metadata": {},
   "outputs": [],
   "source": [
    "%%time\n",
    "amazon_foods_modified_df['Positive Count'] = amazon_foods_modified_df.apply(\n",
    "    lambda row: (\n",
    "        add_positive_negative(row[11], True)\n",
    "    ),\n",
    "    axis=1)"
   ]
  },
  {
   "cell_type": "code",
   "execution_count": null,
   "metadata": {},
   "outputs": [],
   "source": [
    "# Create column for negative count\n",
    "amazon_foods_modified_df['Negative Count'] = ''"
   ]
  },
  {
   "cell_type": "code",
   "execution_count": null,
   "metadata": {
    "scrolled": true
   },
   "outputs": [],
   "source": [
    "%%time\n",
    "amazon_foods_modified_df['Negative Count'] = amazon_foods_modified_df.apply(\n",
    "    lambda row: (\n",
    "        add_positive_negative(row[11], False)\n",
    "    ),\n",
    "    axis=1)"
   ]
  },
  {
   "cell_type": "code",
   "execution_count": null,
   "metadata": {},
   "outputs": [],
   "source": [
    "amazon_foods_modified_df"
   ]
  },
  {
   "cell_type": "code",
   "execution_count": null,
   "metadata": {},
   "outputs": [],
   "source": [
    "# Drop columns not needed for modified csv\n",
    "amazon_foods_modified_df = amazon_foods_modified_df.drop(columns=['Lowercase Text'])"
   ]
  },
  {
   "cell_type": "code",
   "execution_count": null,
   "metadata": {},
   "outputs": [],
   "source": [
    "amazon_foods_modified_df.to_csv('Amazon_rev_modified.csv')"
   ]
  },
  {
   "cell_type": "code",
   "execution_count": null,
   "metadata": {},
   "outputs": [],
   "source": []
  }
 ],
 "metadata": {
  "kernelspec": {
   "display_name": "PyCharm (Bootcamp_Data_Analytics)",
   "language": "python",
   "name": "pycharm-47a15ae5"
  },
  "language_info": {
   "codemirror_mode": {
    "name": "ipython",
    "version": 3
   },
   "file_extension": ".py",
   "mimetype": "text/x-python",
   "name": "python",
   "nbconvert_exporter": "python",
   "pygments_lexer": "ipython3",
   "version": "3.7.4"
  }
 },
 "nbformat": 4,
 "nbformat_minor": 1
}
