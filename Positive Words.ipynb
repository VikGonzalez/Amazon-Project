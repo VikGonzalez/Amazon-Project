{
 "cells": [
  {
   "cell_type": "code",
   "execution_count": null,
   "metadata": {},
   "outputs": [],
   "source": [
    "Customer_words = {\n",
    "    'Positive_Words': 'absolutely', 'amazing', 'brilliant', 'certainly', 'completely', 'creative', 'definitely',\n",
    "                      'enjoy', 'essential', 'exactly', 'excellent', 'exceptional', 'exciting', 'exclusive',\n",
    "                      'expert','exquisite', 'fantastic','fascinating','favorite','friendly','fully','generous',\n",
    "                      'great','ideally','impressive','interesting','marvellous','memorable','outstanding',\n",
    "                      'positevely','quickly','recommend','renowned','sensational','skillful','splendid', 'superv',\n",
    "                      'terrific','thriving','unbeatable'}"
   ]
  }
 ],
 "metadata": {
  "kernelspec": {
   "display_name": "Python 3",
   "language": "python",
   "name": "python3"
  },
  "language_info": {
   "codemirror_mode": {
    "name": "ipython",
    "version": 3
   },
   "file_extension": ".py",
   "mimetype": "text/x-python",
   "name": "python",
   "nbconvert_exporter": "python",
   "pygments_lexer": "ipython3",
   "version": "3.7.4"
  }
 },
 "nbformat": 4,
 "nbformat_minor": 2
}
