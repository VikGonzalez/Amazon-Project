{
 "cells": [
  {
   "cell_type": "code",
   "execution_count": null,
   "metadata": {},
   "outputs": [],
   "source": [
    "my_dict = {\n",
    "    'open':'understanding','confident','reliable','easy','amazed','free','sympathetic','interested','satisfied',\n",
    "            'receptive','accepting','kind',\n",
    "    'happy':'great','joyous','lucky','fortunate','delighted','overjoyed','gleeful','thankful','important',\n",
    "            'festive','ecstatic','glad','cheerful','elated','jubilant',\n",
    "    'alive':,'playful','courageous','energetic','liberated','optimistic',\n",
    "            'impulsive','free','animated','spirited','thrilled','wonderful',\n",
    "    'good':'calm','peaceful','at ease','comfortable','pleased','encouraged',\n",
    "            'clever','surprised','content','quiet','certain','relaxed','serene','reassured',\n",
    "    'love':'loving','considerate','affectionate',\n",
    "            'sensitive','tender','devoted','attracted','passionate','admiration','warm','touched','close','comforted','loved',\n",
    "'interested':'concerned','affected','fascinated','intrigued','absorbed','inquisitive','engrossed','curious','drawn toward',\n",
    "'positive':'eager','keen','earnest','intent','inspired','determined','excited','enthusiastic','bold','brave','daring',\n",
    "            'optimistic',\n",
    "'strong':'impulsive','free','sure','certain','rebellious','unique','dynamic','tenacious','hardy','secure',\n",
    "        'confident','challenged'}"
   ]
  }
 ],
 "metadata": {
  "kernelspec": {
   "display_name": "Python 3",
   "language": "python",
   "name": "python3"
  },
  "language_info": {
   "codemirror_mode": {
    "name": "ipython",
    "version": 3
   },
   "file_extension": ".py",
   "mimetype": "text/x-python",
   "name": "python",
   "nbconvert_exporter": "python",
   "pygments_lexer": "ipython3",
   "version": "3.7.4"
  }
 },
 "nbformat": 4,
 "nbformat_minor": 2
}
